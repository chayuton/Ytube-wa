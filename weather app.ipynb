{
 "cells": [
  {
   "cell_type": "code",
   "execution_count": 3,
   "metadata": {},
   "outputs": [],
   "source": [
    "import tkinter as tk\n",
    "import requests"
   ]
  },
  {
   "cell_type": "code",
   "execution_count": 4,
   "metadata": {},
   "outputs": [],
   "source": [
    "def getWeather(canvas): \n",
    "    city = textfield.get()\n",
    "    api = \"https://api.openweathermap.org/data/2.5/weather?q=\"+\"city\"+\"&appid=06c921750b9a82d8f5d1294e1586276f\"\n",
    "    json_data = requests.get(api).json()\n",
    "    \n",
    "    condition = json_data['weather'][0]['main']\n",
    "    temp = int(json_data['main']['temp'] - 273.15)\n",
    "    min_temp = int(json_data['main']['temp_min'] - 273.15)\n",
    "    max_temp = int(json_data['main']['temp_max'] - 273.15)\n",
    "    pressure = json_data['main']['pressure']\n",
    "    humidity = json_data['main']['humidity']\n",
    "    wind = json_data['wind']['speed']\n",
    "    \n",
    "    final_info = condition + '\\n' + str(temp) + ' C\\n'\n",
    "    final_data = \"Min Temp: \"+ str(min_temp) + ' C\\n' + \"Max Temp: \"+ str(max_temp) + ' C\\n' +\\\n",
    "                \"Pressure: \" + str(pressure) + \"\\nHumidity: \" + str(humidity) + \"\\nWind: \" + str(wind)\n",
    "        \n",
    "    label1.config(text = final_info)\n",
    "    label2.config(text = final_data)\n",
    "    \n",
    "\n",
    "canvas = tk.Tk()\n",
    "canvas.geometry(\"600x500\")\n",
    "canvas.title(\"Weather APP\")\n",
    "f = ('poppins', 15, 'bold')\n",
    "t = ('poppins', 35, 'bold')\n",
    "\n",
    "textfield = tk.Entry(canvas, justify = 'center', width = 20, font=t)\n",
    "textfield.pack(pady = 20)\n",
    "textfield.focus()\n",
    "textfield.bind('<Return>', getWeather)\n",
    "\n",
    "label1 = tk.Label(canvas, font=t)\n",
    "label1.pack()\n",
    "    \n",
    "label2 = tk.Label(canvas, font=f)\n",
    "label2.pack()\n",
    "\n",
    "canvas.mainloop()"
   ]
  },
  {
   "cell_type": "code",
   "execution_count": null,
   "metadata": {},
   "outputs": [],
   "source": []
  },
  {
   "cell_type": "code",
   "execution_count": null,
   "metadata": {},
   "outputs": [],
   "source": []
  },
  {
   "cell_type": "code",
   "execution_count": null,
   "metadata": {},
   "outputs": [],
   "source": []
  },
  {
   "cell_type": "code",
   "execution_count": null,
   "metadata": {},
   "outputs": [],
   "source": []
  },
  {
   "cell_type": "code",
   "execution_count": null,
   "metadata": {},
   "outputs": [],
   "source": []
  },
  {
   "cell_type": "code",
   "execution_count": null,
   "metadata": {},
   "outputs": [],
   "source": []
  }
 ],
 "metadata": {
  "kernelspec": {
   "display_name": "Python 3.10.7 64-bit",
   "language": "python",
   "name": "python3"
  },
  "language_info": {
   "codemirror_mode": {
    "name": "ipython",
    "version": 3
   },
   "file_extension": ".py",
   "mimetype": "text/x-python",
   "name": "python",
   "nbconvert_exporter": "python",
   "pygments_lexer": "ipython3",
   "version": "3.10.7"
  },
  "vscode": {
   "interpreter": {
    "hash": "aee8b7b246df8f9039afb4144a1f6fd8d2ca17a180786b69acc140d282b71a49"
   }
  }
 },
 "nbformat": 4,
 "nbformat_minor": 4
}
